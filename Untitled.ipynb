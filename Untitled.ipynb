{
 "cells": [
  {
   "cell_type": "code",
   "execution_count": 6,
   "metadata": {},
   "outputs": [],
   "source": [
    "import os \n",
    "from os import path\n",
    "import json\n",
    "import numpy as np\n",
    "import pandas as pd\n",
    "import matplotlib.pyplot as plt\n",
    "import matplotlib.gridspec as gridspec\n",
    "import nltk\n",
    "from nltk.classify import apply_features\n",
    "from nltk import word_tokenize\n",
    "import random\n",
    "import time\n",
    "import re\n",
    "from datetime import datetime\n",
    "fs = 16 # fontsize"
   ]
  },
  {
   "cell_type": "code",
   "execution_count": 7,
   "metadata": {},
   "outputs": [
    {
     "data": {
      "text/plain": [
       "dict_keys(['alternate_names', 'api_path', 'description', 'facebook_name', 'followers_count', 'header_image_url', 'id', 'image_url', 'instagram_name', 'is_meme_verified', 'is_verified', 'name', 'translation_artist', 'twitter_name', 'url', 'current_user_metadata', 'iq', 'description_annotation', 'user', 'songs'])"
      ]
     },
     "execution_count": 7,
     "metadata": {},
     "output_type": "execute_result"
    }
   ],
   "source": [
    "#Reading Data\n",
    "file_path = path.relpath(\"files/Lyrics_Eminem.json\")\n",
    "d = json.load(open(file_path,'r'))\n",
    "d.keys()"
   ]
  },
  {
   "cell_type": "code",
   "execution_count": 13,
   "metadata": {},
   "outputs": [
    {
     "data": {
      "text/plain": [
       "506"
      ]
     },
     "execution_count": 13,
     "metadata": {},
     "output_type": "execute_result"
    }
   ],
   "source": [
    "#Filtering Data\n",
    "\n",
    "#d['songs']\n",
    "#songs = d['songs']\n",
    "\n",
    "# Adding all the songs to a list\n",
    "allsongs = []\n",
    "for song in d['songs']:         \n",
    "    allsongs.append(song)        \n",
    "        \n",
    "len(allsongs)"
   ]
  },
  {
   "cell_type": "code",
   "execution_count": 50,
   "metadata": {},
   "outputs": [
    {
     "data": {
      "image/png": "[encoded data removed]",
      "text/plain": [
       "<Figure size 576x360 with 1 Axes>"
      ]
     },
     "metadata": {
      "needs_background": "light"
     },
     "output_type": "display_data"
    }
   ],
   "source": [
    "# Words per song\n",
    "words = [len(song['lyrics'].split(' ')) for song in allsongs]\n",
    "#words = list(filter(lambda x: x<500, words))\n",
    "len(words)\n",
    "\n",
    "fig, axs = plt.subplots(figsize=(8,5))\n",
    "axs.hist(words, 100)\n",
    "#plt.ylim(0, 6)\n",
    "axs.set_xlabel(\"Words in song\")\n",
    "axs.set_ylabel(\"Number of songs\")\n",
    "# Hide the right and top spines\n",
    "# axs.spines['right'].set_visible(False)\n",
    "# axs.spines['top'].set_visible(False)\n",
    "plt.show()"
   ]
  },
  {
   "cell_type": "code",
   "execution_count": null,
   "metadata": {},
   "outputs": [],
   "source": []
  }
 ],
 "metadata": {
  "kernelspec": {
   "display_name": "Python 3",
   "language": "python",
   "name": "python3"
  },
  "language_info": {
   "codemirror_mode": {
    "name": "ipython",
    "version": 3
   },
   "file_extension": ".py",
   "mimetype": "text/x-python",
   "name": "python",
   "nbconvert_exporter": "python",
   "pygments_lexer": "ipython3",
   "version": "3.7.4"
  }
 },
 "nbformat": 4,
 "nbformat_minor": 2
}
